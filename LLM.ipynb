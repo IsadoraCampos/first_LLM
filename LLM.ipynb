{
  "nbformat": 4,
  "nbformat_minor": 0,
  "metadata": {
    "colab": {
      "provenance": [],
      "authorship_tag": "ABX9TyN7yfOOkn0/4dC9L1WCXdG7"
    },
    "kernelspec": {
      "name": "python3",
      "display_name": "Python 3"
    },
    "language_info": {
      "name": "python"
    }
  },
  "cells": [
    {
      "cell_type": "markdown",
      "source": [
        "Instalando o SDK do Google   \n"
      ],
      "metadata": {
        "id": "vFvA11SYKjOI"
      }
    },
    {
      "cell_type": "code",
      "execution_count": null,
      "metadata": {
        "id": "Jnp-IN1sI8nD"
      },
      "outputs": [],
      "source": [
        "!pip install -q -U google-generativeai"
      ]
    },
    {
      "cell_type": "markdown",
      "source": [
        "Importando o SDK"
      ],
      "metadata": {
        "id": "wMcQ3yfgLBz0"
      }
    },
    {
      "cell_type": "code",
      "source": [
        "# Import the Python SDK\n",
        "import google.generativeai as genai\n",
        "# Used to securely store your API key\n",
        "from google.colab import userdata\n",
        "\n",
        "GOOGLE_API_KEY=\"SECRET_KEY\"\n",
        "genai.configure(api_key=GOOGLE_API_KEY)"
      ],
      "metadata": {
        "id": "lFFolj-XLCVy"
      },
      "execution_count": 33,
      "outputs": []
    },
    {
      "cell_type": "markdown",
      "source": [
        "Listando os modelos disponíveis"
      ],
      "metadata": {
        "id": "QzF228CjLejn"
      }
    },
    {
      "cell_type": "code",
      "source": [
        "for m in genai.list_models():\n",
        "  if \"generateContent\" in m.supported_generation_methods:\n",
        "    print(m.name)"
      ],
      "metadata": {
        "colab": {
          "base_uri": "https://localhost:8080/",
          "height": 139
        },
        "id": "D_Bg02GyLku0",
        "outputId": "79e9784d-3609-4987-b46b-a146397dbb70"
      },
      "execution_count": null,
      "outputs": [
        {
          "output_type": "stream",
          "name": "stdout",
          "text": [
            "models/gemini-1.0-pro\n",
            "models/gemini-1.0-pro-001\n",
            "models/gemini-1.0-pro-latest\n",
            "models/gemini-1.0-pro-vision-latest\n",
            "models/gemini-1.5-pro-latest\n",
            "models/gemini-pro\n",
            "models/gemini-pro-vision\n"
          ]
        }
      ]
    },
    {
      "cell_type": "markdown",
      "source": [
        "Criando as configurações do modelo"
      ],
      "metadata": {
        "id": "4B6RFPsTiWtj"
      }
    },
    {
      "cell_type": "code",
      "source": [
        "generation_config = {\n",
        "    \"candidate_count\": 1,\n",
        "    \"temperature\": 0.5,\n",
        "}"
      ],
      "metadata": {
        "id": "mC5Q04PtN77s"
      },
      "execution_count": null,
      "outputs": []
    },
    {
      "cell_type": "code",
      "source": [
        "safety_settings = {\n",
        "    \"HARASSMENT\": \"BLOCK_NONE\",\n",
        "    \"HATE\": \"BLOCK_NONE\",\n",
        "    \"SEXUAL\": \"BLOCK_NONE\",\n",
        "    \"DANGEROUS\": \"BLOCK_NONE\",\n",
        "}"
      ],
      "metadata": {
        "id": "97P-fCvaPAHe"
      },
      "execution_count": null,
      "outputs": []
    },
    {
      "cell_type": "markdown",
      "source": [
        "Inicializando o modelo"
      ],
      "metadata": {
        "id": "1coxAWbTQXOm"
      }
    },
    {
      "cell_type": "code",
      "source": [
        "model = genai.GenerativeModel(model_name =\"gemini-1.0-pro\",\n",
        "                              generation_config = generation_config,\n",
        "                              safety_settings = safety_settings)"
      ],
      "metadata": {
        "id": "qaDYApVAQZe3"
      },
      "execution_count": null,
      "outputs": []
    },
    {
      "cell_type": "code",
      "source": [
        "chat = model.start_chat(history = [])"
      ],
      "metadata": {
        "id": "Tlxvn8qMT2vv"
      },
      "execution_count": null,
      "outputs": []
    },
    {
      "cell_type": "code",
      "source": [
        "prompt = input(\"Esperando prompt: \")\n",
        "while prompt != \"fim\":\n",
        "  response = chat.send_message(prompt)\n",
        "  print(\"Resposta: \", response.text, \"\\n\")\n",
        "  prompt = input(\"Esperando prompt: \")\n",
        "\n"
      ],
      "metadata": {
        "colab": {
          "base_uri": "https://localhost:8080/",
          "height": 520
        },
        "id": "A_VjwFCZUa_P",
        "outputId": "854c5cf7-adc3-4fec-8e06-b069e4d8315b"
      },
      "execution_count": 35,
      "outputs": [
        {
          "name": "stdout",
          "output_type": "stream",
          "text": [
            "Esperando prompt: crie um poema sobre matemática\n",
            "Resposta:  **Ode à Matemática**\n",
            "\n",
            "Oh, Matemática, ciência exata,\n",
            "Teus números dançam, uma sinfonia abstrata.\n",
            "Da álgebra à geometria, teu reino é vasto,\n",
            "Um universo de conhecimento, um tesouro que contrasta.\n",
            "\n",
            "Teus teoremas são como estrelas no céu,\n",
            "Guiando nossas mentes, dissipando o véu.\n",
            "Equações são enigmas, desafios a vencer,\n",
            "Resolvê-los é triunfar, um doce mel a beber.\n",
            "\n",
            "Frações e decimais, uma dança precisa,\n",
            "Proporções e porcentagens, uma brisa.\n",
            "Cálculo e estatística, ferramentas poderosas,\n",
            "Para desvendar o mundo, suas verdades gloriosas.\n",
            "\n",
            "Oh, Matemática, tu és a chave da razão,\n",
            "Um farol de clareza em meio à confusão.\n",
            "Tu nos ensinas a pensar, a analisar,\n",
            "A questionar o mundo e a verdade desvendar.\n",
            "\n",
            "Então, louvemos à Matemática, sua beleza e graça,\n",
            "Uma arte e uma ciência, um tesouro em nossa praça.\n",
            "Que seus números nos guiem, sua lógica nos inspire,\n",
            "A desvendar o universo, um passo de cada vez, sem desistir. \n",
            "\n",
            "Esperando prompt: fim\n"
          ]
        }
      ]
    }
  ]
}